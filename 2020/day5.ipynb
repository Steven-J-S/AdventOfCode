{
 "cells": [
  {
   "cell_type": "markdown",
   "metadata": {},
   "source": [
    "# AOC 2020: Day 5\n",
    "This notebook contains the answers to advent of code day 5."
   ]
  },
  {
   "cell_type": "markdown",
   "metadata": {},
   "source": [
    "Import packages:"
   ]
  },
  {
   "cell_type": "code",
   "execution_count": 1,
   "metadata": {},
   "outputs": [],
   "source": [
    "import numpy as np"
   ]
  },
  {
   "cell_type": "markdown",
   "metadata": {},
   "source": [
    "Load input:"
   ]
  },
  {
   "cell_type": "code",
   "execution_count": 6,
   "metadata": {},
   "outputs": [],
   "source": [
    "with open('input_day5.txt') as f:\n",
    "        passes = f.read().split(\"\\n\")"
   ]
  },
  {
   "cell_type": "markdown",
   "metadata": {},
   "source": [
    "### Part 1\n",
    "Check highest ID:"
   ]
  },
  {
   "cell_type": "code",
   "execution_count": 28,
   "metadata": {},
   "outputs": [],
   "source": [
    "# functions to iteratively split\n",
    "def row_splitter(codes, length=128):\n",
    "    lo = 0\n",
    "    hi = length\n",
    "    for c in codes[:7]:\n",
    "        if c == 'B':\n",
    "            lo, hi = splitter(hi, lo, 'up')\n",
    "        elif c == 'F':\n",
    "            lo, hi = splitter(hi, lo, 'down')\n",
    "    return lo"
   ]
  },
  {
   "cell_type": "code",
   "execution_count": 38,
   "metadata": {},
   "outputs": [],
   "source": [
    "def column_splitter(codes, length=8):\n",
    "    lo = 0\n",
    "    hi = length\n",
    "    for c in codes[-3:]:\n",
    "        if c == 'R':\n",
    "            lo, hi = splitter(hi, lo, 'up')\n",
    "        elif c == 'L':\n",
    "            lo, hi = splitter(hi, lo, 'down')\n",
    "    return lo"
   ]
  },
  {
   "cell_type": "code",
   "execution_count": 39,
   "metadata": {},
   "outputs": [],
   "source": [
    "def splitter(hi, lo, split='up'):\n",
    "    if split=='up':\n",
    "        lo = int(lo+(hi-lo)/2)\n",
    "    elif split=='down':\n",
    "        hi = int(lo+(hi-lo)/2)\n",
    "    return lo, hi"
   ]
  },
  {
   "cell_type": "code",
   "execution_count": 42,
   "metadata": {},
   "outputs": [],
   "source": [
    "IDs = []\n",
    "for p in passes:\n",
    "    row = row_splitter(p)\n",
    "    column = column_splitter(p)\n",
    "    IDs.append(row*8 + column)"
   ]
  },
  {
   "cell_type": "code",
   "execution_count": 43,
   "metadata": {},
   "outputs": [
    {
     "data": {
      "text/plain": [
       "880"
      ]
     },
     "execution_count": 43,
     "metadata": {},
     "output_type": "execute_result"
    }
   ],
   "source": [
    "max(IDs)"
   ]
  },
  {
   "cell_type": "markdown",
   "metadata": {},
   "source": [
    "### Part 2\n",
    "Find seat:"
   ]
  },
  {
   "cell_type": "code",
   "execution_count": 54,
   "metadata": {},
   "outputs": [],
   "source": [
    "IDs.sort() # sort in place, first and last values are irrelevant\n",
    "for i in range(len(IDs)):\n",
    "    if IDs[i+1] - IDs[i]>1:\n",
    "        seat = IDs[i]+1\n",
    "        break"
   ]
  },
  {
   "cell_type": "code",
   "execution_count": 55,
   "metadata": {},
   "outputs": [
    {
     "data": {
      "text/plain": [
       "731"
      ]
     },
     "execution_count": 55,
     "metadata": {},
     "output_type": "execute_result"
    }
   ],
   "source": [
    "seat"
   ]
  }
 ],
 "metadata": {
  "kernelspec": {
   "display_name": "Python 3",
   "language": "python",
   "name": "python3"
  },
  "language_info": {
   "codemirror_mode": {
    "name": "ipython",
    "version": 3
   },
   "file_extension": ".py",
   "mimetype": "text/x-python",
   "name": "python",
   "nbconvert_exporter": "python",
   "pygments_lexer": "ipython3",
   "version": "3.7.4"
  }
 },
 "nbformat": 4,
 "nbformat_minor": 2
}
