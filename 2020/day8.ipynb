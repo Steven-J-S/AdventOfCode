{
 "cells": [
  {
   "cell_type": "markdown",
   "metadata": {},
   "source": [
    "# AOC 2020: Day 8\n",
    "This notebook contains the answers to advent of code 2020 day 8."
   ]
  },
  {
   "cell_type": "markdown",
   "metadata": {},
   "source": [
    "Import packages:"
   ]
  },
  {
   "cell_type": "code",
   "execution_count": 2,
   "metadata": {},
   "outputs": [],
   "source": [
    "import pandas as pd"
   ]
  },
  {
   "cell_type": "markdown",
   "metadata": {},
   "source": [
    "Load input:"
   ]
  },
  {
   "cell_type": "code",
   "execution_count": 86,
   "metadata": {},
   "outputs": [],
   "source": [
    "boot_code = pd.read_csv('input_day8.txt', sep=\" \", header=None)\n",
    "boot_code.columns = [\"instruction\", \"step\"]"
   ]
  },
  {
   "cell_type": "code",
   "execution_count": 15,
   "metadata": {},
   "outputs": [
    {
     "data": {
      "text/html": [
       "<div>\n",
       "<style scoped>\n",
       "    .dataframe tbody tr th:only-of-type {\n",
       "        vertical-align: middle;\n",
       "    }\n",
       "\n",
       "    .dataframe tbody tr th {\n",
       "        vertical-align: top;\n",
       "    }\n",
       "\n",
       "    .dataframe thead th {\n",
       "        text-align: right;\n",
       "    }\n",
       "</style>\n",
       "<table border=\"1\" class=\"dataframe\">\n",
       "  <thead>\n",
       "    <tr style=\"text-align: right;\">\n",
       "      <th></th>\n",
       "      <th>instruction</th>\n",
       "      <th>step</th>\n",
       "    </tr>\n",
       "  </thead>\n",
       "  <tbody>\n",
       "    <tr>\n",
       "      <td>0</td>\n",
       "      <td>acc</td>\n",
       "      <td>37</td>\n",
       "    </tr>\n",
       "    <tr>\n",
       "      <td>1</td>\n",
       "      <td>acc</td>\n",
       "      <td>-4</td>\n",
       "    </tr>\n",
       "    <tr>\n",
       "      <td>2</td>\n",
       "      <td>nop</td>\n",
       "      <td>405</td>\n",
       "    </tr>\n",
       "    <tr>\n",
       "      <td>3</td>\n",
       "      <td>jmp</td>\n",
       "      <td>276</td>\n",
       "    </tr>\n",
       "    <tr>\n",
       "      <td>4</td>\n",
       "      <td>acc</td>\n",
       "      <td>39</td>\n",
       "    </tr>\n",
       "    <tr>\n",
       "      <td>...</td>\n",
       "      <td>...</td>\n",
       "      <td>...</td>\n",
       "    </tr>\n",
       "    <tr>\n",
       "      <td>618</td>\n",
       "      <td>acc</td>\n",
       "      <td>-11</td>\n",
       "    </tr>\n",
       "    <tr>\n",
       "      <td>619</td>\n",
       "      <td>acc</td>\n",
       "      <td>45</td>\n",
       "    </tr>\n",
       "    <tr>\n",
       "      <td>620</td>\n",
       "      <td>acc</td>\n",
       "      <td>0</td>\n",
       "    </tr>\n",
       "    <tr>\n",
       "      <td>621</td>\n",
       "      <td>acc</td>\n",
       "      <td>28</td>\n",
       "    </tr>\n",
       "    <tr>\n",
       "      <td>622</td>\n",
       "      <td>jmp</td>\n",
       "      <td>1</td>\n",
       "    </tr>\n",
       "  </tbody>\n",
       "</table>\n",
       "<p>623 rows × 2 columns</p>\n",
       "</div>"
      ],
      "text/plain": [
       "    instruction  step\n",
       "0           acc    37\n",
       "1           acc    -4\n",
       "2           nop   405\n",
       "3           jmp   276\n",
       "4           acc    39\n",
       "..          ...   ...\n",
       "618         acc   -11\n",
       "619         acc    45\n",
       "620         acc     0\n",
       "621         acc    28\n",
       "622         jmp     1\n",
       "\n",
       "[623 rows x 2 columns]"
      ]
     },
     "execution_count": 15,
     "metadata": {},
     "output_type": "execute_result"
    }
   ],
   "source": [
    "boot_code"
   ]
  },
  {
   "cell_type": "markdown",
   "metadata": {},
   "source": [
    "### Part 1\n",
    "Run boot-code and count accumulator:"
   ]
  },
  {
   "cell_type": "code",
   "execution_count": 8,
   "metadata": {},
   "outputs": [
    {
     "data": {
      "text/plain": [
       "623"
      ]
     },
     "execution_count": 8,
     "metadata": {},
     "output_type": "execute_result"
    }
   ],
   "source": [
    "len(boot_code)"
   ]
  },
  {
   "cell_type": "code",
   "execution_count": 21,
   "metadata": {},
   "outputs": [
    {
     "data": {
      "text/plain": [
       "'jmp'"
      ]
     },
     "execution_count": 21,
     "metadata": {},
     "output_type": "execute_result"
    }
   ],
   "source": [
    "boot_code['instruction'][622]"
   ]
  },
  {
   "cell_type": "code",
   "execution_count": 28,
   "metadata": {},
   "outputs": [],
   "source": [
    "def boot(boot_code):\n",
    "    accumulator = 0\n",
    "    index_counter = set()\n",
    "    i = 0\n",
    "    while i in range(len(boot_code)):\n",
    "        inst = boot_code['instruction'][i]\n",
    "        step = boot_code['step'][i]\n",
    "        # check if index is looping\n",
    "        if i in index_counter:\n",
    "            break\n",
    "        else:\n",
    "            index_counter.add(i)\n",
    "            if inst == 'acc':\n",
    "                accumulator += step\n",
    "                i += 1\n",
    "            elif inst == 'jmp':\n",
    "                i += step\n",
    "            elif inst == 'nop':\n",
    "                i += 1\n",
    "    return accumulator, index_counter"
   ]
  },
  {
   "cell_type": "code",
   "execution_count": 29,
   "metadata": {},
   "outputs": [],
   "source": [
    "accumulator, index_counter = boot(boot_code)"
   ]
  },
  {
   "cell_type": "code",
   "execution_count": 30,
   "metadata": {},
   "outputs": [
    {
     "data": {
      "text/plain": [
       "1801"
      ]
     },
     "execution_count": 30,
     "metadata": {},
     "output_type": "execute_result"
    }
   ],
   "source": [
    "accumulator"
   ]
  },
  {
   "cell_type": "markdown",
   "metadata": {},
   "source": [
    "### Part 2\n",
    "Find corrupted entry:"
   ]
  },
  {
   "cell_type": "code",
   "execution_count": 68,
   "metadata": {},
   "outputs": [],
   "source": [
    "# BRUTE FORCE = BIG SAD"
   ]
  },
  {
   "cell_type": "code",
   "execution_count": 99,
   "metadata": {},
   "outputs": [],
   "source": [
    "jump_index = boot_code['instruction']=='jmp'\n",
    "nop_index = boot_code['instruction']=='nop'\n",
    "jmp_nop_index = jump_index | nop_index"
   ]
  },
  {
   "cell_type": "code",
   "execution_count": 100,
   "metadata": {},
   "outputs": [],
   "source": [
    "def boot_exit(boot_code, jmp_nop_index):\n",
    "    accumulator = 0\n",
    "    index_counter = set()\n",
    "    i = 0\n",
    "    switch = False\n",
    "    while i in range(len(boot_code)):\n",
    "        # check if index is looping, if so reset\n",
    "        if i in index_counter:\n",
    "            accumulator = 0\n",
    "            index_counter = set()\n",
    "            i = 0\n",
    "            switch = False\n",
    "        else:\n",
    "            inst = boot_code['instruction'][i]\n",
    "            step = boot_code['step'][i]\n",
    "            # switch if not yet happened\n",
    "            if jmp_nop_index[i] and not switch:\n",
    "                if inst == 'jmp':\n",
    "                    inst = 'nop'\n",
    "                    jmp_nop_index[i] = False\n",
    "                    switch = True\n",
    "                elif inst == 'nop':\n",
    "                    inst = 'jmp'\n",
    "                    jmp_nop_index[i] = False\n",
    "                    switch = True\n",
    "            index_counter.add(i)\n",
    "            if inst == 'acc':\n",
    "                accumulator += step\n",
    "                i += 1\n",
    "            elif inst == 'jmp':\n",
    "                i += step\n",
    "            elif inst == 'nop':\n",
    "                i += 1\n",
    "    return accumulator, index_counter"
   ]
  },
  {
   "cell_type": "code",
   "execution_count": 101,
   "metadata": {},
   "outputs": [],
   "source": [
    "acc, ind = boot_exit(boot_code, jmp_nop_index)"
   ]
  },
  {
   "cell_type": "code",
   "execution_count": 102,
   "metadata": {},
   "outputs": [
    {
     "data": {
      "text/plain": [
       "2060"
      ]
     },
     "execution_count": 102,
     "metadata": {},
     "output_type": "execute_result"
    }
   ],
   "source": [
    "acc"
   ]
  },
  {
   "cell_type": "code",
   "execution_count": null,
   "metadata": {},
   "outputs": [],
   "source": []
  },
  {
   "cell_type": "code",
   "execution_count": null,
   "metadata": {},
   "outputs": [],
   "source": [
    "# SMART FORCE = MORE CODE ?!"
   ]
  },
  {
   "cell_type": "code",
   "execution_count": 43,
   "metadata": {},
   "outputs": [],
   "source": [
    "# find possible starting points: find instruction that exceeds bottom limit\n",
    "index = set()\n",
    "for i in range(len(boot_code)-1, -1, -1):\n",
    "        inst = boot_code['instruction'][i]\n",
    "        step = boot_code['step'][i]\n",
    "        if inst == 'jmp' and i+step>622:\n",
    "            index.add(i)"
   ]
  },
  {
   "cell_type": "code",
   "execution_count": 45,
   "metadata": {},
   "outputs": [
    {
     "data": {
      "text/plain": [
       "{622}"
      ]
     },
     "execution_count": 45,
     "metadata": {},
     "output_type": "execute_result"
    }
   ],
   "source": [
    "index # single entry/exit point"
   ]
  },
  {
   "cell_type": "code",
   "execution_count": 53,
   "metadata": {},
   "outputs": [],
   "source": [
    "# find indexes to which a jump is possible\n",
    "def find_jump_index(boot_code):\n",
    "    jump_index = set()\n",
    "    for i in range(len(boot_code)):\n",
    "        inst = boot_code['instruction'][i]\n",
    "        step = boot_code['step'][i]\n",
    "        if inst == 'jmp':\n",
    "            jump_index.add(i+step)\n",
    "    return jump_index"
   ]
  },
  {
   "cell_type": "code",
   "execution_count": 54,
   "metadata": {},
   "outputs": [],
   "source": [
    "jump_index = find_jump_index(boot_code)"
   ]
  },
  {
   "cell_type": "code",
   "execution_count": 55,
   "metadata": {},
   "outputs": [
    {
     "data": {
      "text/plain": [
       "{8,\n",
       " 13,\n",
       " 20,\n",
       " 25,\n",
       " 32,\n",
       " 41,\n",
       " 47,\n",
       " 53,\n",
       " 54,\n",
       " 56,\n",
       " 63,\n",
       " 71,\n",
       " 78,\n",
       " 80,\n",
       " 81,\n",
       " 84,\n",
       " 87,\n",
       " 92,\n",
       " 93,\n",
       " 99,\n",
       " 107,\n",
       " 111,\n",
       " 115,\n",
       " 122,\n",
       " 127,\n",
       " 135,\n",
       " 142,\n",
       " 147,\n",
       " 154,\n",
       " 157,\n",
       " 163,\n",
       " 164,\n",
       " 173,\n",
       " 179,\n",
       " 188,\n",
       " 196,\n",
       " 202,\n",
       " 206,\n",
       " 208,\n",
       " 210,\n",
       " 212,\n",
       " 215,\n",
       " 221,\n",
       " 228,\n",
       " 232,\n",
       " 238,\n",
       " 242,\n",
       " 251,\n",
       " 254,\n",
       " 261,\n",
       " 263,\n",
       " 269,\n",
       " 274,\n",
       " 279,\n",
       " 285,\n",
       " 293,\n",
       " 294,\n",
       " 302,\n",
       " 308,\n",
       " 309,\n",
       " 312,\n",
       " 316,\n",
       " 321,\n",
       " 326,\n",
       " 330,\n",
       " 334,\n",
       " 340,\n",
       " 348,\n",
       " 354,\n",
       " 357,\n",
       " 363,\n",
       " 372,\n",
       " 376,\n",
       " 379,\n",
       " 381,\n",
       " 386,\n",
       " 389,\n",
       " 391,\n",
       " 395,\n",
       " 400,\n",
       " 410,\n",
       " 412,\n",
       " 417,\n",
       " 420,\n",
       " 422,\n",
       " 427,\n",
       " 435,\n",
       " 437,\n",
       " 443,\n",
       " 445,\n",
       " 449,\n",
       " 452,\n",
       " 456,\n",
       " 467,\n",
       " 476,\n",
       " 480,\n",
       " 484,\n",
       " 486,\n",
       " 494,\n",
       " 498,\n",
       " 501,\n",
       " 507,\n",
       " 512,\n",
       " 515,\n",
       " 521,\n",
       " 528,\n",
       " 534,\n",
       " 536,\n",
       " 538,\n",
       " 542,\n",
       " 547,\n",
       " 556,\n",
       " 563,\n",
       " 565,\n",
       " 568,\n",
       " 575,\n",
       " 579,\n",
       " 582,\n",
       " 585,\n",
       " 591,\n",
       " 596,\n",
       " 597,\n",
       " 600,\n",
       " 606,\n",
       " 612,\n",
       " 618,\n",
       " 623}"
      ]
     },
     "execution_count": 55,
     "metadata": {},
     "output_type": "execute_result"
    }
   ],
   "source": [
    "jump_index"
   ]
  },
  {
   "cell_type": "code",
   "execution_count": 47,
   "metadata": {},
   "outputs": [],
   "source": [
    "# backwards engineer PART I, find overlapping index, try part I with changed index\n",
    "def reverse_boot(boot_code):\n",
    "    accumulator = 0\n",
    "    index_counter = set()\n",
    "    i = len(boot_code) - 1\n",
    "    while i in range(len(boot_code)):\n",
    "        inst = boot_code['instruction'][i]\n",
    "        step = boot_code['step'][i]\n",
    "        # check if index is looping\n",
    "        if i in index_counter:\n",
    "            break\n",
    "        else:\n",
    "            index_counter.add(i)\n",
    "            if inst == 'acc':\n",
    "                accumulator += step\n",
    "                i -= 1\n",
    "            elif inst == 'jmp':\n",
    "                i -= step\n",
    "            elif inst == 'nop':\n",
    "                i -= 1\n",
    "    return accumulator, index_counter"
   ]
  },
  {
   "cell_type": "code",
   "execution_count": null,
   "metadata": {},
   "outputs": [],
   "source": []
  }
 ],
 "metadata": {
  "kernelspec": {
   "display_name": "Python 3",
   "language": "python",
   "name": "python3"
  },
  "language_info": {
   "codemirror_mode": {
    "name": "ipython",
    "version": 3
   },
   "file_extension": ".py",
   "mimetype": "text/x-python",
   "name": "python",
   "nbconvert_exporter": "python",
   "pygments_lexer": "ipython3",
   "version": "3.7.4"
  }
 },
 "nbformat": 4,
 "nbformat_minor": 2
}
