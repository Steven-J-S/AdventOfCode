{
 "cells": [
  {
   "cell_type": "markdown",
   "metadata": {},
   "source": [
    "# AOC 2020: Day 10\n",
    "This notebook contains the answers to advent of code 2020 day 10."
   ]
  },
  {
   "cell_type": "markdown",
   "metadata": {},
   "source": [
    "Import packages:"
   ]
  },
  {
   "cell_type": "code",
   "execution_count": 119,
   "metadata": {},
   "outputs": [],
   "source": [
    "import pandas as pd\n",
    "import numpy as np"
   ]
  },
  {
   "cell_type": "markdown",
   "metadata": {},
   "source": [
    "Load input:"
   ]
  },
  {
   "cell_type": "code",
   "execution_count": 123,
   "metadata": {},
   "outputs": [],
   "source": [
    "jolts = pd.read_csv('input_day10.txt', header=None)"
   ]
  },
  {
   "cell_type": "markdown",
   "metadata": {},
   "source": [
    "### Part 1\n",
    "Find 1 and 3 differences in jolts."
   ]
  },
  {
   "cell_type": "code",
   "execution_count": 126,
   "metadata": {},
   "outputs": [],
   "source": [
    "jolts.sort_values(by=0, inplace=True)"
   ]
  },
  {
   "cell_type": "code",
   "execution_count": 127,
   "metadata": {},
   "outputs": [],
   "source": [
    "jolts_sorted = jolts.values"
   ]
  },
  {
   "cell_type": "code",
   "execution_count": 128,
   "metadata": {
    "scrolled": true
   },
   "outputs": [
    {
     "data": {
      "text/plain": [
       "array([[  1],\n",
       "       [  2],\n",
       "       [  3],\n",
       "       [  6],\n",
       "       [  7],\n",
       "       [  8],\n",
       "       [  9],\n",
       "       [ 10],\n",
       "       [ 13],\n",
       "       [ 14],\n",
       "       [ 15],\n",
       "       [ 16],\n",
       "       [ 19],\n",
       "       [ 22],\n",
       "       [ 23],\n",
       "       [ 24],\n",
       "       [ 25],\n",
       "       [ 28],\n",
       "       [ 29],\n",
       "       [ 32],\n",
       "       [ 33],\n",
       "       [ 36],\n",
       "       [ 39],\n",
       "       [ 42],\n",
       "       [ 43],\n",
       "       [ 44],\n",
       "       [ 45],\n",
       "       [ 48],\n",
       "       [ 49],\n",
       "       [ 50],\n",
       "       [ 53],\n",
       "       [ 56],\n",
       "       [ 57],\n",
       "       [ 58],\n",
       "       [ 59],\n",
       "       [ 62],\n",
       "       [ 65],\n",
       "       [ 68],\n",
       "       [ 69],\n",
       "       [ 70],\n",
       "       [ 71],\n",
       "       [ 72],\n",
       "       [ 75],\n",
       "       [ 78],\n",
       "       [ 81],\n",
       "       [ 82],\n",
       "       [ 83],\n",
       "       [ 84],\n",
       "       [ 87],\n",
       "       [ 90],\n",
       "       [ 93],\n",
       "       [ 94],\n",
       "       [ 95],\n",
       "       [ 98],\n",
       "       [101],\n",
       "       [102],\n",
       "       [103],\n",
       "       [104],\n",
       "       [107],\n",
       "       [108],\n",
       "       [109],\n",
       "       [112],\n",
       "       [113],\n",
       "       [114],\n",
       "       [115],\n",
       "       [116],\n",
       "       [119],\n",
       "       [120],\n",
       "       [121],\n",
       "       [122],\n",
       "       [123],\n",
       "       [126],\n",
       "       [129],\n",
       "       [130],\n",
       "       [131],\n",
       "       [132],\n",
       "       [135],\n",
       "       [138],\n",
       "       [139],\n",
       "       [140],\n",
       "       [141],\n",
       "       [144],\n",
       "       [145],\n",
       "       [148],\n",
       "       [149],\n",
       "       [150],\n",
       "       [151],\n",
       "       [152],\n",
       "       [155],\n",
       "       [156],\n",
       "       [157],\n",
       "       [160],\n",
       "       [163],\n",
       "       [166],\n",
       "       [167],\n",
       "       [168],\n",
       "       [169],\n",
       "       [170],\n",
       "       [173],\n",
       "       [174],\n",
       "       [175],\n",
       "       [176]])"
      ]
     },
     "execution_count": 128,
     "metadata": {},
     "output_type": "execute_result"
    }
   ],
   "source": [
    "jolts_sorted"
   ]
  },
  {
   "cell_type": "code",
   "execution_count": 113,
   "metadata": {},
   "outputs": [],
   "source": [
    "\n",
    "if jolts_sorted[0][0] == 1:\n",
    "    diff1 = 1\n",
    "    diff3 = 1\n",
    "elif jolts_sorted[0][0] == 3:\n",
    "    diff1 = 0\n",
    "    diff3 = 2\n",
    "        \n",
    "for i in range(1, len(jolts_sorted)):\n",
    "    in1 = jolts_sorted[i-1][0]\n",
    "    in2 = jolts_sorted[i][0]\n",
    "    if in2 - in1 == 1:\n",
    "        diff1 += 1\n",
    "    elif in2 - in1 == 3:\n",
    "        diff3 += 1  "
   ]
  },
  {
   "cell_type": "code",
   "execution_count": 114,
   "metadata": {},
   "outputs": [
    {
     "data": {
      "text/plain": [
       "65"
      ]
     },
     "execution_count": 114,
     "metadata": {},
     "output_type": "execute_result"
    }
   ],
   "source": [
    "diff1"
   ]
  },
  {
   "cell_type": "code",
   "execution_count": 115,
   "metadata": {},
   "outputs": [
    {
     "data": {
      "text/plain": [
       "38"
      ]
     },
     "execution_count": 115,
     "metadata": {},
     "output_type": "execute_result"
    }
   ],
   "source": [
    "diff3"
   ]
  },
  {
   "cell_type": "code",
   "execution_count": 116,
   "metadata": {},
   "outputs": [
    {
     "data": {
      "text/plain": [
       "2470"
      ]
     },
     "execution_count": 116,
     "metadata": {},
     "output_type": "execute_result"
    }
   ],
   "source": [
    "diff1*diff3"
   ]
  },
  {
   "cell_type": "markdown",
   "metadata": {},
   "source": [
    "### Part 2\n",
    "Find distinct arrangements."
   ]
  },
  {
   "cell_type": "code",
   "execution_count": 135,
   "metadata": {},
   "outputs": [],
   "source": [
    "jolts = np.array([[0]])\n",
    "jolts = np.append(jolts, jolts_sorted)"
   ]
  },
  {
   "cell_type": "code",
   "execution_count": 315,
   "metadata": {},
   "outputs": [],
   "source": [
    "def fun(jolts, step, mem):\n",
    "    #check if given is in memory\n",
    "    if jolts[0] in mem.keys():\n",
    "        count = mem[jolts[0]]\n",
    "    else:\n",
    "    #append memory\n",
    "        count = 0\n",
    "        i = 1\n",
    "        if len(jolts)==1:\n",
    "            count = 1\n",
    "            mem[jolts[0]] = count\n",
    "        else:\n",
    "            while jolts[i] - jolts[0] <= step:\n",
    "                count_add, mem_add = fun(jolts[i:], step, mem)\n",
    "                count += count_add\n",
    "                mem[jolts[i]] = count_add\n",
    "                i += 1\n",
    "                if i>len(jolts)-1:\n",
    "                    break\n",
    "    return count, mem"
   ]
  },
  {
   "cell_type": "code",
   "execution_count": 318,
   "metadata": {
    "scrolled": true
   },
   "outputs": [
    {
     "data": {
      "text/plain": [
       "(1973822685184,\n",
       " {176: 1,\n",
       "  175: 1,\n",
       "  174: 2,\n",
       "  173: 4,\n",
       "  170: 4,\n",
       "  169: 4,\n",
       "  168: 8,\n",
       "  167: 16,\n",
       "  166: 28,\n",
       "  163: 28,\n",
       "  160: 28,\n",
       "  157: 28,\n",
       "  156: 28,\n",
       "  155: 56,\n",
       "  152: 56,\n",
       "  151: 56,\n",
       "  150: 112,\n",
       "  149: 224,\n",
       "  148: 392,\n",
       "  145: 392,\n",
       "  144: 392,\n",
       "  141: 392,\n",
       "  140: 392,\n",
       "  139: 784,\n",
       "  138: 1568,\n",
       "  135: 1568,\n",
       "  132: 1568,\n",
       "  131: 1568,\n",
       "  130: 3136,\n",
       "  129: 6272,\n",
       "  126: 6272,\n",
       "  123: 6272,\n",
       "  122: 6272,\n",
       "  121: 12544,\n",
       "  120: 25088,\n",
       "  119: 43904,\n",
       "  116: 43904,\n",
       "  115: 43904,\n",
       "  114: 87808,\n",
       "  113: 175616,\n",
       "  112: 307328,\n",
       "  109: 307328,\n",
       "  108: 307328,\n",
       "  107: 614656,\n",
       "  104: 614656,\n",
       "  103: 614656,\n",
       "  102: 1229312,\n",
       "  101: 2458624,\n",
       "  98: 2458624,\n",
       "  95: 2458624,\n",
       "  94: 2458624,\n",
       "  93: 4917248,\n",
       "  90: 4917248,\n",
       "  87: 4917248,\n",
       "  84: 4917248,\n",
       "  83: 4917248,\n",
       "  82: 9834496,\n",
       "  81: 19668992,\n",
       "  78: 19668992,\n",
       "  75: 19668992,\n",
       "  72: 19668992,\n",
       "  71: 19668992,\n",
       "  70: 39337984,\n",
       "  69: 78675968,\n",
       "  68: 137682944,\n",
       "  65: 137682944,\n",
       "  62: 137682944,\n",
       "  59: 137682944,\n",
       "  58: 137682944,\n",
       "  57: 275365888,\n",
       "  56: 550731776,\n",
       "  53: 550731776,\n",
       "  50: 550731776,\n",
       "  49: 550731776,\n",
       "  48: 1101463552,\n",
       "  45: 1101463552,\n",
       "  44: 1101463552,\n",
       "  43: 2202927104,\n",
       "  42: 4405854208,\n",
       "  39: 4405854208,\n",
       "  36: 4405854208,\n",
       "  33: 4405854208,\n",
       "  32: 4405854208,\n",
       "  29: 4405854208,\n",
       "  28: 4405854208,\n",
       "  25: 4405854208,\n",
       "  24: 4405854208,\n",
       "  23: 8811708416,\n",
       "  22: 17623416832,\n",
       "  19: 17623416832,\n",
       "  16: 17623416832,\n",
       "  15: 17623416832,\n",
       "  14: 35246833664,\n",
       "  13: 70493667328,\n",
       "  10: 70493667328,\n",
       "  9: 70493667328,\n",
       "  8: 140987334656,\n",
       "  7: 281974669312,\n",
       "  6: 493455671296,\n",
       "  3: 493455671296,\n",
       "  2: 493455671296,\n",
       "  1: 986911342592})"
      ]
     },
     "execution_count": 318,
     "metadata": {},
     "output_type": "execute_result"
    }
   ],
   "source": [
    "fun(jolts, 3, {})"
   ]
  }
 ],
 "metadata": {
  "kernelspec": {
   "display_name": "Python 3",
   "language": "python",
   "name": "python3"
  },
  "language_info": {
   "codemirror_mode": {
    "name": "ipython",
    "version": 3
   },
   "file_extension": ".py",
   "mimetype": "text/x-python",
   "name": "python",
   "nbconvert_exporter": "python",
   "pygments_lexer": "ipython3",
   "version": "3.7.4"
  }
 },
 "nbformat": 4,
 "nbformat_minor": 2
}
