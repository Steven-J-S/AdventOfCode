{
 "cells": [
  {
   "cell_type": "markdown",
   "metadata": {},
   "source": [
    "# AOC 2020: Day 12\n",
    "This notebook contains the answers to advent of code 2020 day 12."
   ]
  },
  {
   "cell_type": "markdown",
   "metadata": {},
   "source": [
    "Import packages:"
   ]
  },
  {
   "cell_type": "code",
   "execution_count": 23,
   "metadata": {},
   "outputs": [],
   "source": [
    "import pandas as pd\n",
    "from collections import deque"
   ]
  },
  {
   "cell_type": "markdown",
   "metadata": {},
   "source": [
    "Load input:"
   ]
  },
  {
   "cell_type": "code",
   "execution_count": 4,
   "metadata": {},
   "outputs": [],
   "source": [
    "temp = pd.read_csv('input_day12.txt', header=None).values\n",
    "directions = []\n",
    "for i in temp:\n",
    "    directions.append(i[0])"
   ]
  },
  {
   "cell_type": "code",
   "execution_count": 6,
   "metadata": {},
   "outputs": [],
   "source": [
    "temp_test = pd.read_csv('input_day12_test.txt', header=None).values\n",
    "directions_test = []\n",
    "for i in temp_test:\n",
    "    directions_test.append(i[0])"
   ]
  },
  {
   "cell_type": "markdown",
   "metadata": {},
   "source": [
    "### Part 1\n",
    "Find ending point:"
   ]
  },
  {
   "cell_type": "code",
   "execution_count": 43,
   "metadata": {},
   "outputs": [],
   "source": [
    "def find_manhatten(directions):\n",
    "    wind = deque(['east', 'south', 'west', 'north'])\n",
    "    distance = {'direction': wind[0], 'north':0, 'east':0, 'south':0, 'west':0}\n",
    "\n",
    "    for i in directions:\n",
    "        #if rotation\n",
    "        if i[0]=='R':\n",
    "            rotation = -int(int(i[1:])/90)\n",
    "            wind.rotate(rotation)\n",
    "            distance['direction'] = wind[0]\n",
    "        elif i[0]=='L':\n",
    "            rotation = int(int(i[1:])/90)\n",
    "            wind.rotate(rotation)\n",
    "            distance['direction'] = wind[0]\n",
    "        else:\n",
    "            #if movement\n",
    "            if i[0]=='F': key=distance['direction']\n",
    "            elif i[0]=='N': key='north'\n",
    "            elif i[0]=='E': key='east'\n",
    "            elif i[0]=='S': key='south'\n",
    "            elif i[0]=='W': key='west'\n",
    "            distance[key] += int(i[1:])\n",
    "\n",
    "    return abs(distance['north']-distance['south']) + abs(distance['east']-distance['west'])"
   ]
  },
  {
   "cell_type": "code",
   "execution_count": 45,
   "metadata": {},
   "outputs": [
    {
     "data": {
      "text/plain": [
       "2280"
      ]
     },
     "execution_count": 45,
     "metadata": {},
     "output_type": "execute_result"
    }
   ],
   "source": [
    "find_manhatten(directions)"
   ]
  },
  {
   "cell_type": "markdown",
   "metadata": {},
   "source": [
    "### Part 2\n",
    "Find ending point according to waypoint:"
   ]
  },
  {
   "cell_type": "code",
   "execution_count": 88,
   "metadata": {},
   "outputs": [],
   "source": [
    "def find_manhatten2(directions):\n",
    "    wind = deque(['east', 'south', 'west', 'north'])\n",
    "    waypoint = {'east':10, 'south':0, 'west':0, 'north':1}\n",
    "    distance = {'east':0, 'south':0, 'west':0, 'north':0}\n",
    "\n",
    "    for i in directions:\n",
    "        if i[0]=='N': waypoint['north']+=int(i[1:])\n",
    "        elif i[0]=='E': waypoint['east']+=int(i[1:])\n",
    "        elif i[0]=='S': waypoint['south']+=int(i[1:])\n",
    "        elif i[0]=='W': waypoint['west']+=int(i[1:])\n",
    "        elif i[0]=='R':\n",
    "            temp_waypoint = waypoint.copy()\n",
    "            rotation = int(int(i[1:])/90)\n",
    "            wind.rotate(rotation)\n",
    "            j=0\n",
    "            for k in waypoint.keys():\n",
    "                waypoint[k] = temp_waypoint[wind[j]]\n",
    "                j+=1\n",
    "            wind.rotate(-rotation)\n",
    "        elif i[0]=='L':\n",
    "            temp_waypoint = waypoint.copy()\n",
    "            rotation = -int(int(i[1:])/90)\n",
    "            wind.rotate(rotation)\n",
    "            j=0\n",
    "            for k in waypoint.keys():\n",
    "                waypoint[k] = temp_waypoint[wind[j]]\n",
    "                j+=1\n",
    "            wind.rotate(-rotation)\n",
    "        elif i[0]=='F':\n",
    "            for key in waypoint.keys():\n",
    "                distance[key] += waypoint[key]*int(i[1:])\n",
    "\n",
    "    return distance, abs(distance['north']-distance['south']) + abs(distance['east']-distance['west'])"
   ]
  },
  {
   "cell_type": "code",
   "execution_count": 90,
   "metadata": {},
   "outputs": [
    {
     "data": {
      "text/plain": [
       "({'east': 1367431, 'south': 1376033, 'west': 1354568, 'north': 1350203}, 38693)"
      ]
     },
     "execution_count": 90,
     "metadata": {},
     "output_type": "execute_result"
    }
   ],
   "source": [
    "find_manhatten2(directions)"
   ]
  },
  {
   "cell_type": "code",
   "execution_count": 51,
   "metadata": {},
   "outputs": [],
   "source": [
    "temp_wind = wind"
   ]
  },
  {
   "cell_type": "code",
   "execution_count": 52,
   "metadata": {},
   "outputs": [
    {
     "data": {
      "text/plain": [
       "deque(['south', 'west', 'north', 'east'])"
      ]
     },
     "execution_count": 52,
     "metadata": {},
     "output_type": "execute_result"
    }
   ],
   "source": [
    "temp_wind"
   ]
  },
  {
   "cell_type": "code",
   "execution_count": 53,
   "metadata": {},
   "outputs": [],
   "source": [
    "wind.rotate(1)"
   ]
  },
  {
   "cell_type": "code",
   "execution_count": 55,
   "metadata": {},
   "outputs": [
    {
     "data": {
      "text/plain": [
       "deque(['east', 'south', 'west', 'north'])"
      ]
     },
     "execution_count": 55,
     "metadata": {},
     "output_type": "execute_result"
    }
   ],
   "source": [
    "temp_wind"
   ]
  },
  {
   "cell_type": "code",
   "execution_count": 81,
   "metadata": {},
   "outputs": [
    {
     "data": {
      "text/plain": [
       "'east'"
      ]
     },
     "execution_count": 81,
     "metadata": {},
     "output_type": "execute_result"
    }
   ],
   "source": []
  }
 ],
 "metadata": {
  "kernelspec": {
   "display_name": "Python 3",
   "language": "python",
   "name": "python3"
  },
  "language_info": {
   "codemirror_mode": {
    "name": "ipython",
    "version": 3
   },
   "file_extension": ".py",
   "mimetype": "text/x-python",
   "name": "python",
   "nbconvert_exporter": "python",
   "pygments_lexer": "ipython3",
   "version": "3.7.4"
  }
 },
 "nbformat": 4,
 "nbformat_minor": 2
}
