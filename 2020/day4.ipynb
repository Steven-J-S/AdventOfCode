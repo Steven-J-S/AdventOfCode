{
 "cells": [
  {
   "cell_type": "markdown",
   "metadata": {},
   "source": [
    "# AOC 2020: Day 4\n",
    "This notebook contains the answers to advent of code 2020 day 4."
   ]
  },
  {
   "cell_type": "markdown",
   "metadata": {},
   "source": [
    "Import packages:"
   ]
  },
  {
   "cell_type": "code",
   "execution_count": 156,
   "metadata": {},
   "outputs": [],
   "source": [
    "import re"
   ]
  },
  {
   "cell_type": "markdown",
   "metadata": {},
   "source": [
    "Load data:"
   ]
  },
  {
   "cell_type": "code",
   "execution_count": 79,
   "metadata": {},
   "outputs": [],
   "source": [
    "def list_to_dict(rlist):\n",
    "    return dict(map(lambda s : s.split(':'), rlist))"
   ]
  },
  {
   "cell_type": "code",
   "execution_count": 173,
   "metadata": {},
   "outputs": [],
   "source": [
    "with open('input_day4.txt') as f:\n",
    "    passports_raw = f.read().split(\"\\n\\n\")\n",
    "    passports = []\n",
    "    for p in passports_raw:\n",
    "        passports.append(list_to_dict(re.split('\\s|\\n', p)))"
   ]
  },
  {
   "cell_type": "markdown",
   "metadata": {},
   "source": [
    "### Part 1\n",
    "Check valid passports"
   ]
  },
  {
   "cell_type": "code",
   "execution_count": 213,
   "metadata": {},
   "outputs": [],
   "source": [
    "required_fields = {'byr', 'iyr', 'eyr', 'hgt', 'hcl', 'ecl', 'pid'}\n",
    "optional_fields = {'cid'}"
   ]
  },
  {
   "cell_type": "code",
   "execution_count": 214,
   "metadata": {},
   "outputs": [],
   "source": [
    "valid_counter1 = 0\n",
    "for p in passports:\n",
    "    if not required_fields.difference(p.keys()):\n",
    "        valid_counter1 += 1"
   ]
  },
  {
   "cell_type": "code",
   "execution_count": 215,
   "metadata": {},
   "outputs": [
    {
     "data": {
      "text/plain": [
       "219"
      ]
     },
     "execution_count": 215,
     "metadata": {},
     "output_type": "execute_result"
    }
   ],
   "source": [
    "valid_counter1"
   ]
  },
  {
   "cell_type": "markdown",
   "metadata": {},
   "source": [
    "### Part 2\n",
    "Check valid passports:"
   ]
  },
  {
   "cell_type": "code",
   "execution_count": null,
   "metadata": {},
   "outputs": [],
   "source": [
    "byr (Birth Year) - four digits; at least 1920 and at most 2002.\n",
    "iyr (Issue Year) - four digits; at least 2010 and at most 2020.\n",
    "eyr (Expiration Year) - four digits; at least 2020 and at most 2030.\n",
    "hgt (Height) - a number followed by either cm or in:\n",
    "If cm, the number must be at least 150 and at most 193.\n",
    "If in, the number must be at least 59 and at most 76.\n",
    "hcl (Hair Color) - a # followed by exactly six characters 0-9 or a-f.\n",
    "ecl (Eye Color) - exactly one of: amb blu brn gry grn hzl oth.\n",
    "pid (Passport ID) - a nine-digit number, including leading zeroes.\n",
    "cid (Country ID) - ignored, missing or not."
   ]
  },
  {
   "cell_type": "code",
   "execution_count": 350,
   "metadata": {},
   "outputs": [],
   "source": [
    "# rules\n",
    "def rule_byr(p):\n",
    "    return int(p['byr']) in range(1920, 2002 + 1)\n",
    "\n",
    "def rule_iyr(p):\n",
    "    return int(p['iyr']) in range(2010, 2020 + 1)\n",
    "\n",
    "def rule_eyr(p):\n",
    "    return int(p['eyr']) in range(2020, 2030 + 1)\n",
    "\n",
    "def rule_hgt(p):\n",
    "    try:\n",
    "        if p['hgt'][-2:] == 'in':\n",
    "            if int(p['hgt'][:2]) >= 59 and int(p['hgt'][:2]) <= 76:\n",
    "                return True\n",
    "            else:\n",
    "                return False\n",
    "        elif p['hgt'][-2:] == 'cm':\n",
    "            if int(p['hgt'][:3]) >= 150 and int(p['hgt'][:3]) <= 193:\n",
    "                return True\n",
    "            else:\n",
    "                return False\n",
    "        else:\n",
    "            return False\n",
    "    except ValueError:\n",
    "        return False\n",
    "        \n",
    "def rule_hcl(p):\n",
    "    allowed = {'0', '1', '2', '3', '4', '5', '6', '7', '8', '9', 'a', 'b', 'c', 'd', 'e', 'f'}\n",
    "    if p['hcl'][0] == '#' and len(p['hcl']) == 7:\n",
    "        if all([i in allowed for i in p['hcl'][1:]]):\n",
    "            return True\n",
    "        else:\n",
    "            return False\n",
    "    else:\n",
    "        return False\n",
    "                \n",
    "def rule_ecl(p):\n",
    "    return p['ecl'] in {'amb', 'blu', 'brn', 'gry', 'grn', 'hzl', 'oth'}\n",
    "\n",
    "def rule_pid(p):\n",
    "    try:\n",
    "        if int('1' + p['pid']) >= 1e9 and int('1' + p['pid']) <= 1e10:\n",
    "            return True\n",
    "    except ValueError:\n",
    "        return False\n"
   ]
  },
  {
   "cell_type": "code",
   "execution_count": 351,
   "metadata": {},
   "outputs": [],
   "source": [
    "valid_counter2 = 0\n",
    "for p in passports:\n",
    "    if not required_fields.difference(p.keys()):\n",
    "        if all((rule_byr(p), rule_iyr(p), rule_eyr(p), rule_hgt(p), rule_hcl(p), rule_ecl(p), rule_pid(p))):\n",
    "            valid_counter2 += 1"
   ]
  },
  {
   "cell_type": "code",
   "execution_count": 352,
   "metadata": {},
   "outputs": [
    {
     "data": {
      "text/plain": [
       "127"
      ]
     },
     "execution_count": 352,
     "metadata": {},
     "output_type": "execute_result"
    }
   ],
   "source": [
    "valid_counter2"
   ]
  }
 ],
 "metadata": {
  "kernelspec": {
   "display_name": "Python 3",
   "language": "python",
   "name": "python3"
  },
  "language_info": {
   "codemirror_mode": {
    "name": "ipython",
    "version": 3
   },
   "file_extension": ".py",
   "mimetype": "text/x-python",
   "name": "python",
   "nbconvert_exporter": "python",
   "pygments_lexer": "ipython3",
   "version": "3.7.4"
  }
 },
 "nbformat": 4,
 "nbformat_minor": 2
}
