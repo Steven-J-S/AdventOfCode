{
 "cells": [
  {
   "cell_type": "markdown",
   "metadata": {},
   "source": [
    "# OAC 2020: Day 11\n",
    "This notebook contains the answers to advent of code 2020 day 11."
   ]
  },
  {
   "cell_type": "markdown",
   "metadata": {},
   "source": [
    "Import packages:"
   ]
  },
  {
   "cell_type": "code",
   "execution_count": 1,
   "metadata": {},
   "outputs": [],
   "source": [
    "import pandas as pd"
   ]
  },
  {
   "cell_type": "markdown",
   "metadata": {},
   "source": [
    "Load input:"
   ]
  },
  {
   "cell_type": "code",
   "execution_count": 176,
   "metadata": {},
   "outputs": [],
   "source": [
    "temp = pd.read_csv('input_day11.txt', header=None).values\n",
    "seats = []\n",
    "for i in temp:\n",
    "    seats.append(i[0])"
   ]
  },
  {
   "cell_type": "code",
   "execution_count": 182,
   "metadata": {},
   "outputs": [],
   "source": [
    "temp_test = pd.read_csv('input_day11_test.txt', header=None).values\n",
    "seats_test = []\n",
    "for i in temp_test:\n",
    "    seats_test.append(i[0])"
   ]
  },
  {
   "cell_type": "markdown",
   "metadata": {},
   "source": [
    "### Part 1\n",
    "Count taken seats."
   ]
  },
  {
   "cell_type": "code",
   "execution_count": 190,
   "metadata": {},
   "outputs": [],
   "source": [
    "def cushion(seats):\n",
    "    #line with empty seats\n",
    "    temp = [(len(seats[0])+2)*'.']\n",
    "    for i in seats:\n",
    "        temp.append('.' + i + '.')\n",
    "    temp.append((len(seats[0])+2)*'.')\n",
    "    return temp"
   ]
  },
  {
   "cell_type": "code",
   "execution_count": 193,
   "metadata": {},
   "outputs": [],
   "source": [
    "results = cushion(seats)"
   ]
  },
  {
   "cell_type": "code",
   "execution_count": 110,
   "metadata": {},
   "outputs": [],
   "source": [
    "def fill_seats(results):\n",
    "    temp = []\n",
    "    h = 0\n",
    "    while not results == temp:\n",
    "        temp = results.copy()\n",
    "        for i in range(len(temp)-1):\n",
    "            for j in range(len(temp[i])-1):\n",
    "                #if floor, pass to next seat\n",
    "                if temp[i][j]=='.':\n",
    "                    continue\n",
    "                #init counters for empty and occupied adjacent seats\n",
    "                count_empty = 0\n",
    "                count_occ = 0\n",
    "                #scan adjacent seats\n",
    "                for k in range(-1,2):\n",
    "                    for l in range(-1,2):\n",
    "                        if k==0 and l==0:\n",
    "                            continue\n",
    "                        elif temp[i+k][j+l] == 'L' or temp[i+k][j+l] == '.':\n",
    "                            count_empty += 1\n",
    "                        elif temp[i+k][j+l] == '#':\n",
    "                            count_occ += 1\n",
    "                #if empty, fill seats, if >=4 taken, empty seat       \n",
    "                if count_empty == 8:\n",
    "                    string = list(results[i])\n",
    "                    string[j]='#'\n",
    "                    results[i] = ''.join(string)\n",
    "                elif count_occ >=4:\n",
    "                    string = list(results[i])\n",
    "                    string[j]='L'\n",
    "                    results[i] = ''.join(string)\n",
    "    return results"
   ]
  },
  {
   "cell_type": "code",
   "execution_count": 111,
   "metadata": {},
   "outputs": [],
   "source": [
    "def count_seats(results):\n",
    "    count = 0\n",
    "    for r in results:\n",
    "        count += r.count('#')\n",
    "    return count"
   ]
  },
  {
   "cell_type": "code",
   "execution_count": 112,
   "metadata": {},
   "outputs": [
    {
     "data": {
      "text/plain": [
       "2108"
      ]
     },
     "execution_count": 112,
     "metadata": {},
     "output_type": "execute_result"
    }
   ],
   "source": [
    "count_seats(fill_seats(results))"
   ]
  },
  {
   "cell_type": "markdown",
   "metadata": {},
   "source": [
    "### Part 2\n",
    "New rules! Count occupied seats."
   ]
  },
  {
   "cell_type": "code",
   "execution_count": 198,
   "metadata": {},
   "outputs": [],
   "source": [
    "results_test = cushion(seats_test)\n",
    "results = cushion(seats)"
   ]
  },
  {
   "cell_type": "code",
   "execution_count": 219,
   "metadata": {},
   "outputs": [],
   "source": [
    "def fill_seats_new(results):\n",
    "    temp = []\n",
    "    while not results == temp:\n",
    "        temp = results.copy()\n",
    "        for i in range(1, len(temp)-1):\n",
    "            for j in range(1, len(temp[i])-1):\n",
    "                #if floor, pass to next seat\n",
    "                if temp[i][j]=='.':\n",
    "                    continue\n",
    "                #init counters for empty and occupied adjacent seats\n",
    "                count_empty = 0\n",
    "                count_occ = 0\n",
    "                \n",
    "                #scan seats\n",
    "                for k in range(-1,2):\n",
    "                    for l in range(-1,2):\n",
    "                        if k==0 and l==0:\n",
    "                            continue\n",
    "                        \n",
    "                        m = k\n",
    "                        n = l\n",
    "                        while temp[i+m][j+n] == '.':\n",
    "                            if i+m<=0 or j+n<=0 or i+m>=len(temp)-1 or j+n>=len(temp[i])-1:\n",
    "                                break\n",
    "                            else:\n",
    "                                m += k\n",
    "                                n += l\n",
    "                            \n",
    "                        if temp[i+m][j+n] == 'L' or temp[i+m][j+n] == '.':\n",
    "                            count_empty += 1\n",
    "                        elif temp[i+m][j+n] == '#':\n",
    "                            count_occ += 1\n",
    "                            \n",
    "                #if empty, fill seats, if >=4 taken, empty seat       \n",
    "                if count_empty == 8:\n",
    "                    string = list(results[i])\n",
    "                    string[j]='#'\n",
    "                    results[i] = ''.join(string)\n",
    "                elif count_occ >=5:\n",
    "                    string = list(results[i])\n",
    "                    string[j]='L'\n",
    "                    results[i] = ''.join(string)\n",
    "    return results"
   ]
  },
  {
   "cell_type": "code",
   "execution_count": 220,
   "metadata": {},
   "outputs": [],
   "source": [
    "results = cushion(seats)"
   ]
  },
  {
   "cell_type": "code",
   "execution_count": 221,
   "metadata": {},
   "outputs": [
    {
     "data": {
      "text/plain": [
       "1897"
      ]
     },
     "execution_count": 221,
     "metadata": {},
     "output_type": "execute_result"
    }
   ],
   "source": [
    "count_seats(fill_seats_new(results))"
   ]
  },
  {
   "cell_type": "code",
   "execution_count": 215,
   "metadata": {},
   "outputs": [
    {
     "data": {
      "text/plain": [
       "['............',\n",
       " '.L.LL.LL.LL.',\n",
       " '.LLLLLLL.LL.',\n",
       " '.L.L.L..L...',\n",
       " '.LLLL.LL.LL.',\n",
       " '.L.LL.LL.LL.',\n",
       " '.L.LLLLL.LL.',\n",
       " '...L.L......',\n",
       " '.LLLLLLLLLL.',\n",
       " '.L.LLLLLL.L.',\n",
       " '.L.LLLLL.LL.',\n",
       " '............']"
      ]
     },
     "execution_count": 215,
     "metadata": {},
     "output_type": "execute_result"
    }
   ],
   "source": [
    "results_test"
   ]
  },
  {
   "cell_type": "code",
   "execution_count": null,
   "metadata": {},
   "outputs": [],
   "source": []
  },
  {
   "cell_type": "code",
   "execution_count": null,
   "metadata": {},
   "outputs": [],
   "source": []
  },
  {
   "cell_type": "code",
   "execution_count": null,
   "metadata": {},
   "outputs": [],
   "source": []
  }
 ],
 "metadata": {
  "kernelspec": {
   "display_name": "Python 3",
   "language": "python",
   "name": "python3"
  },
  "language_info": {
   "codemirror_mode": {
    "name": "ipython",
    "version": 3
   },
   "file_extension": ".py",
   "mimetype": "text/x-python",
   "name": "python",
   "nbconvert_exporter": "python",
   "pygments_lexer": "ipython3",
   "version": "3.7.4"
  }
 },
 "nbformat": 4,
 "nbformat_minor": 2
}
