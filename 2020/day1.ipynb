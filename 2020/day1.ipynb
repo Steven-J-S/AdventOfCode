{
 "cells": [
  {
   "cell_type": "markdown",
   "metadata": {},
   "source": [
    "# AOC 2020: Day 1\n",
    "This notebook contains the answers to advent of code 2020 day 1."
   ]
  },
  {
   "cell_type": "markdown",
   "metadata": {},
   "source": [
    "Import packages:"
   ]
  },
  {
   "cell_type": "code",
   "execution_count": 58,
   "metadata": {},
   "outputs": [],
   "source": [
    "import numpy as np\n",
    "# import requests <-- web based input doesn't work, needs token"
   ]
  },
  {
   "cell_type": "markdown",
   "metadata": {},
   "source": [
    "Take input (text based):"
   ]
  },
  {
   "cell_type": "code",
   "execution_count": 70,
   "metadata": {},
   "outputs": [],
   "source": [
    "# parse file to list\n",
    "with open('input_day1.txt') as f:\n",
    "    array_raw = []\n",
    "    for line in f: # read lines\n",
    "        array_raw.append([int(x) for x in line.split()])\n",
    "    array_clean = []\n",
    "for el in array_raw:\n",
    "    array_clean.append(el[0])\n",
    "        \n",
    "input_day1 = np.array(array_clean)"
   ]
  },
  {
   "cell_type": "code",
   "execution_count": 60,
   "metadata": {},
   "outputs": [
    {
     "data": {
      "text/plain": [
       "array([1945, 2004, 1520, 1753, 1463, 1976, 1994, 1830, 1942, 1784, 1858,\n",
       "       1841, 1721, 1480, 1821, 1584,  978, 1530, 1278, 1827,  889, 1922,\n",
       "       1996, 1992, 1819, 1847, 2010, 2002,  210, 1924, 1482, 1451, 1867,\n",
       "       1364, 1578, 1623, 1117, 1594, 1476, 1879, 1797, 1952, 2005, 1734,\n",
       "       1898, 1880, 1330, 1854, 1813, 1926, 1686, 1286, 1808, 1876, 1366,\n",
       "       1995, 1632, 1699, 2001, 1365, 1343, 1979, 1868, 1815,  820, 1966,\n",
       "       1888, 1916, 1852, 1932, 1368, 1606, 1825, 1731, 1980, 1990, 1818,\n",
       "       1702, 1419, 1897, 1970, 1276, 1914, 1889, 1953, 1588, 1958, 1310,\n",
       "       1391, 1326, 1131, 1959, 1844, 1307, 1998, 1961, 1708, 1977, 1886,\n",
       "       1946, 1516, 1999, 1859, 1931, 1853, 1265, 1869, 1642, 1740, 1467,\n",
       "       1944, 1956, 1263, 1940, 1912, 1832, 1872, 1678, 1319, 1839, 1689,\n",
       "       1765, 1894, 1242, 1983, 1410, 1985, 1387, 1022, 1358,  860,  112,\n",
       "       1964, 1836, 1838, 1285, 1943, 1718, 1351,  760, 1925, 1842, 1921,\n",
       "       1967, 1822, 1978, 1837, 1378, 1618, 1266, 2003, 1972,  666, 1321,\n",
       "       1938, 1616, 1892,  831, 1865, 1314, 1571, 1806, 1225, 1882, 1454,\n",
       "       1257, 1381, 1284, 1907, 1950, 1887, 1492, 1934, 1709, 1315, 1574,\n",
       "       1794, 1576, 1883, 1864, 1981, 1317, 1397, 1325, 1620, 1895, 1485,\n",
       "       1828, 1803, 1715, 1374, 1251, 1460, 1863, 1581, 1499, 1933, 1982,\n",
       "       1809, 1812])"
      ]
     },
     "execution_count": 60,
     "metadata": {},
     "output_type": "execute_result"
    }
   ],
   "source": [
    "input_day1"
   ]
  },
  {
   "cell_type": "markdown",
   "metadata": {},
   "source": [
    "Save input to file"
   ]
  },
  {
   "cell_type": "code",
   "execution_count": 63,
   "metadata": {},
   "outputs": [],
   "source": [
    "np.save('input_day1', input_day1)"
   ]
  },
  {
   "cell_type": "markdown",
   "metadata": {},
   "source": [
    "### Part 1\n",
    "Find 2020 with 2 elements"
   ]
  },
  {
   "cell_type": "code",
   "execution_count": 65,
   "metadata": {},
   "outputs": [],
   "source": [
    "# BRUTE FORCE!\n",
    "# Always works\n",
    "\n",
    "def brute_force(input_day1):\n",
    "    for i in input_day1:\n",
    "        for j in input_day1:\n",
    "            if i+j == 2020 and i!=j:\n",
    "                output_day1_brute = i*j\n",
    "    return output_day1_brute"
   ]
  },
  {
   "cell_type": "code",
   "execution_count": 51,
   "metadata": {},
   "outputs": [],
   "source": [
    "# SMART FORCE\n",
    "# Only faster if unique summation is present\n",
    "\n",
    "# Most elements are > 1000\n",
    "# Sort elements\n",
    "# Take lowest and sum with highest to lowest, find 2020\n",
    "\n",
    "def smart_force(input_day1):\n",
    "    input_day1_sorted = np.sort(input_day1)\n",
    "    for i in input_day1_sorted:\n",
    "        for j in reversed(input_day1_sorted):\n",
    "            if i+j == 2020:\n",
    "                output_day1_smart = i*j\n",
    "    return output_day1_smart"
   ]
  },
  {
   "cell_type": "code",
   "execution_count": 66,
   "metadata": {},
   "outputs": [
    {
     "data": {
      "text/plain": [
       "1005459"
      ]
     },
     "execution_count": 66,
     "metadata": {},
     "output_type": "execute_result"
    }
   ],
   "source": [
    "brute_force(input_day1)"
   ]
  },
  {
   "cell_type": "code",
   "execution_count": 55,
   "metadata": {},
   "outputs": [
    {
     "data": {
      "text/plain": [
       "1005459"
      ]
     },
     "execution_count": 55,
     "metadata": {},
     "output_type": "execute_result"
    }
   ],
   "source": [
    "smart_force(input_day1)"
   ]
  },
  {
   "cell_type": "markdown",
   "metadata": {},
   "source": [
    "Time differential:"
   ]
  },
  {
   "cell_type": "code",
   "execution_count": 67,
   "metadata": {},
   "outputs": [
    {
     "name": "stdout",
     "output_type": "stream",
     "text": [
      "16.1 ms ± 31.8 µs per loop (mean ± std. dev. of 7 runs, 100 loops each)\n"
     ]
    }
   ],
   "source": [
    "%timeit brute_force(input_day1)"
   ]
  },
  {
   "cell_type": "code",
   "execution_count": 57,
   "metadata": {},
   "outputs": [
    {
     "name": "stdout",
     "output_type": "stream",
     "text": [
      "15.5 ms ± 69.2 µs per loop (mean ± std. dev. of 7 runs, 100 loops each)\n"
     ]
    }
   ],
   "source": [
    "%timeit smart_force(input_day1)"
   ]
  },
  {
   "cell_type": "markdown",
   "metadata": {},
   "source": [
    "### Part 2\n",
    "Find 2020 with 3 elements"
   ]
  },
  {
   "cell_type": "code",
   "execution_count": 68,
   "metadata": {},
   "outputs": [],
   "source": [
    "def brute_force2(input_day1):\n",
    "    for i in input_day1:\n",
    "        for j in input_day1:\n",
    "            for k in input_day1:\n",
    "                if i+j+k == 2020 and i!=j and j!=k and i!=k:\n",
    "                    input_day1_brute = i*j*k\n",
    "    return input_day1_brute"
   ]
  },
  {
   "cell_type": "code",
   "execution_count": 69,
   "metadata": {},
   "outputs": [
    {
     "data": {
      "text/plain": [
       "92643264"
      ]
     },
     "execution_count": 69,
     "metadata": {},
     "output_type": "execute_result"
    }
   ],
   "source": [
    "brute_force2(input_day1)"
   ]
  },
  {
   "cell_type": "code",
   "execution_count": null,
   "metadata": {},
   "outputs": [],
   "source": []
  }
 ],
 "metadata": {
  "kernelspec": {
   "display_name": "Python 3",
   "language": "python",
   "name": "python3"
  },
  "language_info": {
   "codemirror_mode": {
    "name": "ipython",
    "version": 3
   },
   "file_extension": ".py",
   "mimetype": "text/x-python",
   "name": "python",
   "nbconvert_exporter": "python",
   "pygments_lexer": "ipython3",
   "version": "3.7.4"
  }
 },
 "nbformat": 4,
 "nbformat_minor": 2
}
